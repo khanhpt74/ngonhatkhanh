{
  "nbformat": 4,
  "nbformat_minor": 0,
  "metadata": {
    "colab": {
      "name": "BàiTập2.ipynb",
      "provenance": [],
      "authorship_tag": "ABX9TyMuJufaPBMvfYPWxPpX4IxY",
      "include_colab_link": true
    },
    "kernelspec": {
      "name": "python3",
      "display_name": "Python 3"
    }
  },
  "cells": [
    {
      "cell_type": "markdown",
      "metadata": {
        "id": "view-in-github",
        "colab_type": "text"
      },
      "source": [
        "<a href=\"https://colab.research.google.com/github/khanhpt74/ngonhatkhanh/blob/main/B%C3%A0iT%E1%BA%ADp2.ipynb\" target=\"_parent\"><img src=\"https://colab.research.google.com/assets/colab-badge.svg\" alt=\"Open In Colab\"/></a>"
      ]
    },
    {
      "cell_type": "markdown",
      "metadata": {
        "id": "Tjik1JkjVrBM"
      },
      "source": [
        "bài 1\n"
      ]
    },
    {
      "cell_type": "markdown",
      "metadata": {
        "id": "1NL8-qm1WjGG"
      },
      "source": [
        "\n",
        "\n",
        "\n",
        "\n"
      ]
    },
    {
      "cell_type": "markdown",
      "metadata": {
        "id": "15dUt9YwWMJo"
      },
      "source": [
        ""
      ]
    },
    {
      "cell_type": "code",
      "metadata": {
        "id": "gqCuYGh6VpK4"
      },
      "source": [
        "  a = input(\"a= \")\n",
        "  b = input(\"b= \")\n",
        "  a = int(a)\n",
        "  b = int(b)\n",
        "  c = a + b\n",
        "  print(\"a + b = \", c)\n",
        "  c = a * b\n",
        "  print(\"a * b = \", c)\n",
        "  c = a - b\n",
        "  print(\"a - b = \", c)\n",
        "  c = a % b\n",
        "  print(\"a % b = \", c)\n",
        "  c = a // b\n",
        "  print(\"a // b = \", c)"
      ],
      "execution_count": null,
      "outputs": []
    },
    {
      "cell_type": "markdown",
      "metadata": {
        "id": "mCGnE9d9ZZKR"
      },
      "source": [
        "bài 2\n",
        "\n",
        "\n",
        "\n",
        "\n",
        "\n",
        "\n",
        "\n",
        "\n"
      ]
    },
    {
      "cell_type": "code",
      "metadata": {
        "id": "ce07FfO3ZnM-"
      },
      "source": [
        "  a = input(\"a= \")\n",
        "  b = input(\"b= \")\n",
        "  a = float(a)\n",
        "  b = float(b)\n",
        "  c = a + b\n",
        "  print(\"a + b = \", c)\n",
        "  c = a * b\n",
        "  print(\"a * b = \", c)\n",
        "  c = a - b\n",
        "  print(\"a - b = \", c)\n",
        "  c = a / b\n",
        "  print(\"a / b = \", c)"
      ],
      "execution_count": null,
      "outputs": []
    },
    {
      "cell_type": "markdown",
      "metadata": {
        "id": "uTHs1eolavg2"
      },
      "source": [
        "bài 3"
      ]
    },
    {
      "cell_type": "code",
      "metadata": {
        "id": "61bcKLZfaxNW"
      },
      "source": [
        "x=float(input('x= '))\n",
        "y=float(input('y= '))\n",
        "a=abs(x)\n",
        "print('trị tuyệt đối của x là',a)\n",
        "a=int(x)\n",
        "print('phần nguyên của x là', a)\n",
        "a=float(x)\n",
        "print('x chuyển đổi bằng số thực bằng',a)\n",
        "a=pow(x,y)\n",
        "print('lũy thừa của x mũ y là',a)\n",
        "a=pow(x,1/2)\n",
        "print('căn bậc hai của x là',a)"
      ],
      "execution_count": null,
      "outputs": []
    },
    {
      "cell_type": "markdown",
      "metadata": {
        "id": "-kPnOkFkth1E"
      },
      "source": [
        "bài 4\n"
      ]
    },
    {
      "cell_type": "code",
      "metadata": {
        "id": "k40sfMyyyPT-"
      },
      "source": [
        "a = input(\"a= \")\n",
        "b = input(\"b= \")\n",
        "a = int(a)\n",
        "b = int(b)\n",
        "print( a >= b )\n",
        "print( a <= b )\n",
        "print( a > b )\n",
        "print( a < b )\n",
        "print( a != b )"
      ],
      "execution_count": null,
      "outputs": []
    },
    {
      "cell_type": "markdown",
      "metadata": {
        "id": "lBgFPIMk19GP"
      },
      "source": [
        "bài 5\n"
      ]
    },
    {
      "cell_type": "code",
      "metadata": {
        "id": "j_wZW3Yg1_sc"
      },
      "source": [
        "a = \"em chào thầy cương\"\n",
        "print(a.upper()) \n",
        "a = \"EM CHÀO THẦY CƯƠNG\"\n",
        "print(a.lower()) \n"
      ],
      "execution_count": null,
      "outputs": []
    },
    {
      "cell_type": "markdown",
      "metadata": {
        "id": "Z-RbA20n9ASv"
      },
      "source": [
        "bài 6"
      ]
    },
    {
      "cell_type": "code",
      "metadata": {
        "id": "DY4ZgOaq9Gcm"
      },
      "source": [
        "print(\"YOUR BEST\")\n",
        "print(\"If you always try your best\")\n",
        "print(\"Then you’ll never have to wonder\")\n",
        "print(\"About what you could have done\")\n",
        "print(\"If you’d summoned all your thunder.\")\n"
      ],
      "execution_count": null,
      "outputs": []
    }
  ]
}