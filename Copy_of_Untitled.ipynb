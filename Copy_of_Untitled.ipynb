{
  "nbformat": 4,
  "nbformat_minor": 0,
  "metadata": {
    "colab": {
      "name": "Copy of Untitled",
      "provenance": [],
      "authorship_tag": "ABX9TyMeBmb59IjGdCMrx9mtPJe1",
      "include_colab_link": true
    },
    "kernelspec": {
      "name": "python3",
      "display_name": "Python 3"
    }
  },
  "cells": [
    {
      "cell_type": "markdown",
      "metadata": {
        "id": "view-in-github",
        "colab_type": "text"
      },
      "source": [
        "<a href=\"https://colab.research.google.com/github/khanhpt74/ngonhatkhanh/blob/main/Copy_of_Untitled.ipynb\" target=\"_parent\"><img src=\"https://colab.research.google.com/assets/colab-badge.svg\" alt=\"Open In Colab\"/></a>"
      ]
    },
    {
      "cell_type": "markdown",
      "metadata": {
        "id": "skS2HaXXb9UF"
      },
      "source": [
        "bai tap 1\n"
      ]
    },
    {
      "cell_type": "code",
      "metadata": {
        "id": "vgenkbfeb7Ae",
        "outputId": "b116efa1-29b7-4a03-a6cb-66d55fda6da8",
        "colab": {
          "base_uri": "https://localhost:8080/"
        }
      },
      "source": [
        "a = []\n",
        "a.append(18)\n",
        "a.append(\"Huế\")\n",
        "b =  [12, 45, -1, -0.56, \"abc\"]\n",
        "a.extend(b)\n",
        "print(a)\n",
        "print(a[-1])\n",
        "print(a[0])\n",
        "print(a[0:5])\n",
        "print(a[3:-1])\n",
        "\n",
        "\n",
        "\n"
      ],
      "execution_count": 24,
      "outputs": [
        {
          "output_type": "stream",
          "text": [
            "[18, 'Huế', 12, 45, -1, -0.56, 'abc']\n",
            "abc\n",
            "18\n",
            "[18, 'Huế', 12, 45, -1]\n",
            "[45, -1, -0.56]\n"
          ],
          "name": "stdout"
        }
      ]
    }
  ]
}