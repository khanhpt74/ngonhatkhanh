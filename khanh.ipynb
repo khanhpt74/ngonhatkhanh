{
  "nbformat": 4,
  "nbformat_minor": 0,
  "metadata": {
    "colab": {
      "name": "khanh.ipynb",
      "provenance": [],
      "authorship_tag": "ABX9TyMwetsvsNo79miCl5cYgiEv",
      "include_colab_link": true
    },
    "kernelspec": {
      "name": "python3",
      "display_name": "Python 3"
    }
  },
  "cells": [
    {
      "cell_type": "markdown",
      "metadata": {
        "id": "view-in-github",
        "colab_type": "text"
      },
      "source": [
        "<a href=\"https://colab.research.google.com/github/khanhpt74/ngonhatkhanh/blob/main/khanh.ipynb\" target=\"_parent\"><img src=\"https://colab.research.google.com/assets/colab-badge.svg\" alt=\"Open In Colab\"/></a>"
      ]
    },
    {
      "cell_type": "code",
      "metadata": {
        "id": "7zsCsYytuy7Q"
      },
      "source": [
        "print(\"Hello Github & Colab\")"
      ],
      "execution_count": null,
      "outputs": []
    }
  ]
}